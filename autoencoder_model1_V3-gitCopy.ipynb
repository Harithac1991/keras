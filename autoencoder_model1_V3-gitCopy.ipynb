{
 "cells": [
  {
   "cell_type": "markdown",
   "metadata": {},
   "source": [
    "- Created on : 16-sept 2019\n",
    "- Reason : We found simple auto encoder with standardized inputs gives better results"
   ]
  },
  {
   "cell_type": "code",
   "execution_count": 1,
   "metadata": {},
   "outputs": [
    {
     "name": "stderr",
     "output_type": "stream",
     "text": [
      "Using TensorFlow backend.\n"
     ]
    }
   ],
   "source": [
    "from PIL import Image\n",
    "from keras.layers import Input, Dense\n",
    "from keras.models import Model\n",
    "import numpy as np\n",
    "import sys\n",
    "import os\n",
    "import tqdm"
   ]
  },
  {
   "cell_type": "markdown",
   "metadata": {},
   "source": [
    "##### Run only once"
   ]
  },
  {
   "cell_type": "code",
   "execution_count": 2,
   "metadata": {},
   "outputs": [
    {
     "data": {
      "text/plain": [
       "'C:\\\\Haritha_C\\\\My Projects\\\\current\\\\LifeScience_PoC'"
      ]
     },
     "execution_count": 2,
     "metadata": {},
     "output_type": "execute_result"
    }
   ],
   "source": [
    "# print(%pwd)\n",
    "os.chdir(\"../\")\n",
    "%pwd"
   ]
  },
  {
   "cell_type": "markdown",
   "metadata": {},
   "source": [
    "# to .bmp image"
   ]
  },
  {
   "cell_type": "code",
   "execution_count": 5,
   "metadata": {},
   "outputs": [],
   "source": [
    "filelist= [file for file in os.listdir('./images/1024') if file.endswith('.png')]\n",
    "infile_path = \"./images/1024/\"\n",
    "outfile_path = \"./images/1024_bmp/\"\n",
    "for i in filelist:\n",
    "    Image.open(infile_path+i).convert('1').save(outfile_path+str(i).strip('.png')+\".bmp\")\n",
    "    "
   ]
  },
  {
   "cell_type": "code",
   "execution_count": 17,
   "metadata": {},
   "outputs": [],
   "source": [
    "# filelist"
   ]
  },
  {
   "cell_type": "code",
   "execution_count": 3,
   "metadata": {},
   "outputs": [],
   "source": [
    "filelist= [file for file in os.listdir('./images/1024_bmp/') if file.endswith('.bmp')]\n",
    "# filelist"
   ]
  },
  {
   "cell_type": "code",
   "execution_count": 4,
   "metadata": {},
   "outputs": [],
   "source": [
    "datafolder = \"./images/1024_bmp/\"\n",
    "filelist= [file for file in os.listdir(datafolder) if file.endswith('.bmp')]\n",
    "training_data = []\n",
    "for filename in filelist[:100]:\n",
    "    try:\n",
    "    #     print(filename)\n",
    "        #Combines folder name and file name.\n",
    "        path = os.path.join(datafolder,filename)\n",
    "        #Opens an image as an Image object.\n",
    "        image = Image.open(path)\n",
    "        #print(image.size)\n",
    "        #Resizes to a desired size.\n",
    "        #image = image.resize((500,500))\n",
    "        #Creates an array of pixel values from the image.\n",
    "        pixel_array = np.asarray(image)\n",
    "#         if pixel_array.shape != (500,500):\n",
    "#             print(image.shape)\n",
    "        training_data.append(pixel_array)\n",
    "    except:\n",
    "        print (filename)\n",
    "\n",
    "#     #training_data is converted to a numpy array\n",
    "# training_data\n",
    "training_data = np.reshape(training_data,newshape=(-1,1024,1024,1))\n",
    "# print(training_data.shape)\n",
    "# print(training_data[0].shape)\n"
   ]
  },
  {
   "cell_type": "code",
   "execution_count": 5,
   "metadata": {},
   "outputs": [
    {
     "data": {
      "text/plain": [
       "(100, 1024, 1024, 1)"
      ]
     },
     "execution_count": 5,
     "metadata": {},
     "output_type": "execute_result"
    }
   ],
   "source": [
    "training_data.shape"
   ]
  },
  {
   "cell_type": "code",
   "execution_count": 6,
   "metadata": {},
   "outputs": [],
   "source": [
    "# training_data[0][0]\n",
    "train_flat = training_data.reshape(len(training_data),np.prod(training_data.shape[1:]))"
   ]
  },
  {
   "cell_type": "code",
   "execution_count": null,
   "metadata": {},
   "outputs": [],
   "source": []
  },
  {
   "cell_type": "code",
   "execution_count": 7,
   "metadata": {},
   "outputs": [],
   "source": [
    "import numpy as np\n",
    "train_flat.shape\n",
    "max_value = float(train_flat.max())\n",
    "train_flat = train_flat.astype('float32') / max_value\n",
    "\n",
    "train_flat = train_flat.reshape((len(train_flat), np.prod(train_flat.shape[1:])))\n",
    "train_flat.shape\n",
    "x_test = train_flat.astype('float32') / max_value"
   ]
  },
  {
   "cell_type": "code",
   "execution_count": 8,
   "metadata": {},
   "outputs": [
    {
     "name": "stdout",
     "output_type": "stream",
     "text": [
      "Compression factor: 32768.0\n",
      "_________________________________________________________________\n",
      "Layer (type)                 Output Shape              Param #   \n",
      "=================================================================\n",
      "dense_1 (Dense)              (None, 32)                33554464  \n",
      "_________________________________________________________________\n",
      "dense_2 (Dense)              (None, 1048576)           34603008  \n",
      "=================================================================\n",
      "Total params: 68,157,472\n",
      "Trainable params: 68,157,472\n",
      "Non-trainable params: 0\n",
      "_________________________________________________________________\n"
     ]
    }
   ],
   "source": [
    "from keras.models import Model, Sequential\n",
    "input_dim = train_flat.shape[1]\n",
    "encoding_dim = 32\n",
    "\n",
    "compression_factor = float(input_dim) / encoding_dim\n",
    "print(\"Compression factor: %s\" % compression_factor)\n",
    "\n",
    "autoencoder = Sequential()\n",
    "autoencoder.add(\n",
    "    Dense(encoding_dim, input_shape=(input_dim,), activation='relu')\n",
    ")\n",
    "autoencoder.add(\n",
    "    Dense(input_dim, activation='sigmoid')\n",
    ")\n",
    "\n",
    "autoencoder.summary()\n"
   ]
  },
  {
   "cell_type": "code",
   "execution_count": 9,
   "metadata": {},
   "outputs": [
    {
     "name": "stdout",
     "output_type": "stream",
     "text": [
      "_________________________________________________________________\n",
      "Layer (type)                 Output Shape              Param #   \n",
      "=================================================================\n",
      "input_1 (InputLayer)         (None, 1048576)           0         \n",
      "_________________________________________________________________\n",
      "dense_1 (Dense)              (None, 32)                33554464  \n",
      "=================================================================\n",
      "Total params: 33,554,464\n",
      "Trainable params: 33,554,464\n",
      "Non-trainable params: 0\n",
      "_________________________________________________________________\n"
     ]
    }
   ],
   "source": [
    "input_img = Input(shape=(input_dim,))\n",
    "encoder_layer = autoencoder.layers[0]\n",
    "encoder = Model(input_img, encoder_layer(input_img))\n",
    "\n",
    "encoder.summary()\n"
   ]
  },
  {
   "cell_type": "code",
   "execution_count": 10,
   "metadata": {},
   "outputs": [
    {
     "name": "stdout",
     "output_type": "stream",
     "text": [
      "Train on 100 samples, validate on 100 samples\n",
      "Epoch 1/5\n",
      "100/100 [==============================] - 35s 346ms/step - loss: 0.6890 - val_loss: 0.6921\n",
      "Epoch 2/5\n",
      "100/100 [==============================] - 28s 283ms/step - loss: 0.6921 - val_loss: 0.7059\n",
      "Epoch 3/5\n",
      "100/100 [==============================] - 29s 295ms/step - loss: 0.7059 - val_loss: 0.6978\n",
      "Epoch 4/5\n",
      "100/100 [==============================] - 30s 304ms/step - loss: 0.6978 - val_loss: 0.7149\n",
      "Epoch 5/5\n",
      "100/100 [==============================] - 32s 315ms/step - loss: 0.7149 - val_loss: 0.6302\n"
     ]
    },
    {
     "data": {
      "text/plain": [
       "<keras.callbacks.History at 0x18209bb45f8>"
      ]
     },
     "execution_count": 10,
     "metadata": {},
     "output_type": "execute_result"
    }
   ],
   "source": [
    "autoencoder.compile(optimizer='adam', loss='binary_crossentropy')\n",
    "autoencoder.fit(train_flat, train_flat,\n",
    "                epochs=5,\n",
    "                batch_size=256,\n",
    "                shuffle=True,\n",
    "                validation_data=(train_flat, x_test))"
   ]
  },
  {
   "cell_type": "markdown",
   "metadata": {},
   "source": [
    "# Plot and see images before and after"
   ]
  },
  {
   "cell_type": "code",
   "execution_count": 17,
   "metadata": {},
   "outputs": [
    {
     "data": {
      "image/png": "[encoded data removed]",
      "text/plain": [
       "<Figure size 1296x288 with 3 Axes>"
      ]
     },
     "metadata": {
      "needs_background": "light"
     },
     "output_type": "display_data"
    }
   ],
   "source": [
    "import matplotlib.pyplot as plt\n",
    "%matplotlib inline\n",
    "num_images = 1\n",
    "np.random.seed(42)\n",
    "random_test_images = np.random.randint(x_test.shape[0], size=num_images)\n",
    "\n",
    "encoded_imgs = encoder.predict(x_test)\n",
    "decoded_imgs = autoencoder.predict(x_test)\n",
    "plt.figure(figsize=(18, 4))\n",
    "for i, image_idx in enumerate(random_test_images):\n",
    "    # plot original image\n",
    "    ax = plt.subplot(3, num_images, i + 1)\n",
    "    #plt.imshow(x_test[image_idx].reshape(1024, 1024))\n",
    "    plt.gray()\n",
    "    ax.get_xaxis().set_visible(False)\n",
    "    ax.get_yaxis().set_visible(False)\n",
    "    \n",
    "    #plot encoded image\n",
    "    ax = plt.subplot(3, num_images, num_images + i + 1)\n",
    "    plt.imshow(encoded_imgs[image_idx].reshape(8, 4))\n",
    "    plt.gray()\n",
    "    ax.get_xaxis().set_visible(False)\n",
    "    ax.get_yaxis().set_visible(False)\n",
    "\n",
    "    # plot reconstructed image\n",
    "    ax = plt.subplot(3, num_images, 2*num_images + i + 1)\n",
    "    plt.imshow(decoded_imgs[image_idx].reshape(1024, 1024))\n",
    "    plt.gray()\n",
    "    ax.get_xaxis().set_visible(False)\n",
    "    ax.get_yaxis().set_visible(False)\n",
    "plt.show()"
   ]
  },
  {
   "cell_type": "markdown",
   "metadata": {},
   "source": [
    "# Recheck the image"
   ]
  },
  {
   "cell_type": "markdown",
   "metadata": {},
   "source": [
    "# issue is here********************************************************\n"
   ]
  },
  {
   "cell_type": "code",
   "execution_count": 44,
   "metadata": {},
   "outputs": [
    {
     "name": "stdout",
     "output_type": "stream",
     "text": [
      "(1024, 1024)\n"
     ]
    },
    {
     "data": {
      "image/png": "[encoded data removed]",
      "text/plain": [
       "<Figure size 432x288 with 1 Axes>"
      ]
     },
     "metadata": {
      "needs_background": "light"
     },
     "output_type": "display_data"
    }
   ],
   "source": [
    "# import logging\n",
    "# logging.basicConfig(level=logging.DEBUG)\n",
    "# import matplotlib\n",
    "# print('Version', matplotlib.__version__)\n",
    "# import matplotlib.pyplot as plt\n",
    "dat = ((train_flat[0].reshape(1024,1024)))\n",
    "print(dat.shape)\n",
    "plt.imshow(dat)\n",
    "plt.show()\n",
    "img = Image.fromarray(dat, 'L')\n",
    "img.show()"
   ]
  },
  {
   "cell_type": "code",
   "execution_count": null,
   "metadata": {},
   "outputs": [],
   "source": []
  }
 ],
 "metadata": {
  "kernelspec": {
   "display_name": "py36_tf",
   "language": "python",
   "name": "py36_tf"
  },
  "language_info": {
   "codemirror_mode": {
    "name": "ipython",
    "version": 3
   },
   "file_extension": ".py",
   "mimetype": "text/x-python",
   "name": "python",
   "nbconvert_exporter": "python",
   "pygments_lexer": "ipython3",
   "version": "3.6.6"
  }
 },
 "nbformat": 4,
 "nbformat_minor": 2
}
