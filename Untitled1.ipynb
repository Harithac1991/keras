{
 "cells": [
  {
   "cell_type": "code",
   "execution_count": 48,
   "metadata": {},
   "outputs": [],
   "source": [
    "from PIL import Image\n",
    "from keras.layers import Input, Dense\n",
    "from keras.models import Model\n",
    "import numpy as np\n"
   ]
  },
  {
   "cell_type": "code",
   "execution_count": 2,
   "metadata": {},
   "outputs": [],
   "source": [
    "import sys\n",
    "import os"
   ]
  },
  {
   "cell_type": "code",
   "execution_count": 3,
   "metadata": {},
   "outputs": [
    {
     "data": {
      "text/plain": [
       "['C:\\\\Users\\\\haritha.c\\\\AppData\\\\Local\\\\Continuum\\\\anaconda2\\\\envs\\\\py36_tf\\\\lib\\\\site-packages\\\\ipykernel_launcher.py',\n",
       " '-f',\n",
       " 'C:\\\\Users\\\\haritha.c\\\\AppData\\\\Roaming\\\\jupyter\\\\runtime\\\\kernel-eaa44afa-eeb3-478f-81dd-eb0131badb30.json']"
      ]
     },
     "execution_count": 3,
     "metadata": {},
     "output_type": "execute_result"
    }
   ],
   "source": [
    "sys.argv"
   ]
  },
  {
   "cell_type": "code",
   "execution_count": 4,
   "metadata": {},
   "outputs": [
    {
     "name": "stdout",
     "output_type": "stream",
     "text": [
      "-f\n",
      "C:\\Users\\haritha.c\\AppData\\Roaming\\jupyter\\runtime\\kernel-eaa44afa-eeb3-478f-81dd-eb0131badb30.json\n"
     ]
    }
   ],
   "source": [
    "for i in sys.argv[1:]:\n",
    "    print (i)"
   ]
  },
  {
   "cell_type": "code",
   "execution_count": 21,
   "metadata": {},
   "outputs": [],
   "source": [
    "chest_image_Sample = Image.open(\"images/1024/\"+filelist[1])"
   ]
  },
  {
   "cell_type": "code",
   "execution_count": 37,
   "metadata": {},
   "outputs": [
    {
     "name": "stdout",
     "output_type": "stream",
     "text": [
      "images/500_to_binary/00000001_001.png.bmp\n",
      "BMP\n",
      "Windows Bitmap\n",
      "(500, 500)\n",
      "1\n"
     ]
    }
   ],
   "source": [
    "print(chest_image_Sample.filename)\n",
    "print(chest_image_Sample.format)\n",
    "print(chest_image_Sample.format_description)\n",
    "print(chest_image_Sample.size)\n",
    "print(chest_image_Sample.mode)\n",
    "\n",
    "# print(chest_image_Sample.getcolors())\n",
    "# print(chest_image_Sample.histogram())\n",
    "# print(chest_image_Sample.show())\n",
    "# print(chest_image_Sample.)"
   ]
  },
  {
   "cell_type": "code",
   "execution_count": 39,
   "metadata": {},
   "outputs": [
    {
     "ename": "KeyboardInterrupt",
     "evalue": "",
     "output_type": "error",
     "traceback": [
      "---------------------------------------------------------------------------",
      "KeyboardInterrupt                         Traceback (most recent call last)",
      "<ipython-input-39-73186e2380db> in <module>\n      3 outfile_path = \"images/500_to_binary/\"\n      4 for i in filelist:\n----> 5     Image.open(infile_path+i).save(outfile_path+str(i)+\".bmp\")\n",
      "~\\AppData\\Local\\Continuum\\anaconda2\\envs\\py36_tf\\lib\\site-packages\\PIL\\Image.py in save(self, fp, format, **params)\n   1958 \n   1959         # may mutate self!\n-> 1960         self.load()\n   1961 \n   1962         save_all = params.pop('save_all', False)\n",
      "~\\AppData\\Local\\Continuum\\anaconda2\\envs\\py36_tf\\lib\\site-packages\\PIL\\ImageFile.py in load(self)\n    253 \n    254         if self._exclusive_fp and self._close_exclusive_fp_after_loading:\n--> 255             self.fp.close()\n    256         self.fp = None\n    257 \n",
      "KeyboardInterrupt: "
     ]
    }
   ],
   "source": [
    "filelist= [file for file in os.listdir('images/1024_to_500/') if file.endswith('.png')]\n",
    "infile_path = \"images/1024_to_500/\"\n",
    "outfile_path = \"images/500_to_binary/\"\n",
    "for i in filelist:\n",
    "    Image.open(infile_path+i).save(outfile_path+str(i)+\".bmp\")"
   ]
  },
  {
   "cell_type": "code",
   "execution_count": 40,
   "metadata": {},
   "outputs": [],
   "source": [
    "for file in os.listdir('images/500_to_binary/'):\n",
    "    if file.endswith(\".bmp\"):\n",
    "        pass\n",
    "    else:\n",
    "        print(\"Failure : \",file )\n",
    "    "
   ]
  },
  {
   "cell_type": "code",
   "execution_count": 41,
   "metadata": {},
   "outputs": [
    {
     "data": {
      "text/plain": [
       "['.ipynb_checkpoints',\n",
       " 'AIinLS.xlsx',\n",
       " 'checkpoints',\n",
       " 'Convolutional-Autoencoder-master',\n",
       " 'Convolutional-Autoencoder-master.zip',\n",
       " 'Data_Entry_2017',\n",
       " 'Data_Entry_2017.csv.zip',\n",
       " 'icons',\n",
       " 'images',\n",
       " 'images_001.zip',\n",
       " 'Readme.docx',\n",
       " 'Risk Analytics_ v4 - IA use cases.pptx',\n",
       " 'Untitled.ipynb',\n",
       " 'Untitled1.ipynb']"
      ]
     },
     "execution_count": 41,
     "metadata": {},
     "output_type": "execute_result"
    }
   ],
   "source": [
    "os.listdir()"
   ]
  },
  {
   "cell_type": "code",
   "execution_count": 42,
   "metadata": {},
   "outputs": [],
   "source": [
    "filelist= [file for file in os.listdir('images/500_to_binary/') if file.endswith('.bmp')]\n",
    "chest_image_Sample = Image.open(\"images/500_to_binary/\"+filelist[1])"
   ]
  },
  {
   "cell_type": "code",
   "execution_count": 43,
   "metadata": {},
   "outputs": [
    {
     "data": {
      "text/plain": [
       "array([[ True, False,  True, ...,  True,  True, False],\n",
       "       [ True,  True,  True, ..., False,  True,  True],\n",
       "       [False,  True,  True, ...,  True,  True, False],\n",
       "       ...,\n",
       "       [ True, False,  True, ..., False, False, False],\n",
       "       [False, False, False, ..., False, False, False],\n",
       "       [False,  True, False, ..., False, False, False]])"
      ]
     },
     "execution_count": 43,
     "metadata": {},
     "output_type": "execute_result"
    }
   ],
   "source": [
    "np.array(chest_image_Sample)"
   ]
  },
  {
   "cell_type": "code",
   "execution_count": 11,
   "metadata": {},
   "outputs": [
    {
     "name": "stdout",
     "output_type": "stream",
     "text": [
      "Found 0 images belonging to 0 classes.\n"
     ]
    }
   ],
   "source": [
    "from keras.preprocessing import image\n",
    "# image.load_img()\n",
    "train_datagen = image.ImageDataGenerator()\n",
    "training_set = train_datagen.flow_from_directory(directory=r\"./images/500_to_binary/\",\n",
    "                                                 target_size=(500, 500),\n",
    "                                                 color_mode=\"grayscale\",\n",
    "                                                 batch_size=32,\n",
    "                                                 class_mode=\"categorical\",\n",
    "                                                 shuffle=True,\n",
    "                                                 save_format= \".bmp\",\n",
    "                                                 seed=42)\n",
    "\n",
    "# training_image_array = np.array()\n",
    "# for i in filelist[1:100]:\n",
    "    "
   ]
  },
  {
   "cell_type": "code",
   "execution_count": 56,
   "metadata": {},
   "outputs": [
    {
     "data": {
      "text/plain": [
       "<keras.preprocessing.image.ImageDataGenerator at 0x1fecda295f8>"
      ]
     },
     "execution_count": 56,
     "metadata": {},
     "output_type": "execute_result"
    }
   ],
   "source": [
    "train_datagen"
   ]
  },
  {
   "cell_type": "code",
   "execution_count": null,
   "metadata": {},
   "outputs": [],
   "source": []
  }
 ],
 "metadata": {
  "kernelspec": {
   "display_name": "py36_tf",
   "language": "python",
   "name": "py36_tf"
  },
  "language_info": {
   "codemirror_mode": {
    "name": "ipython",
    "version": 3
   },
   "file_extension": ".py",
   "mimetype": "text/x-python",
   "name": "python",
   "nbconvert_exporter": "python",
   "pygments_lexer": "ipython3",
   "version": "3.6.6"
  }
 },
 "nbformat": 4,
 "nbformat_minor": 2
}
